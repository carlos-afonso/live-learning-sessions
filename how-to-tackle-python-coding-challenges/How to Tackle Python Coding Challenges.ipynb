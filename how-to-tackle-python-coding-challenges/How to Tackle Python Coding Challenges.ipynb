{
 "cells": [
  {
   "cell_type": "markdown",
   "metadata": {},
   "source": [
    "# How to Tackle Python Coding Challenges\n",
    "\n",
    "Let's hone our problem solving skills by working on a few Python coding challenges. You can use whatever resources you'd like to answer these questions. You can use any external packages or modules. These questions can be found on [CodeWars](https://www.codewars.com/)."
   ]
  },
  {
   "cell_type": "markdown",
   "metadata": {},
   "source": [
    "## Question 1: +1 Array\n",
    "\n",
    "Given an array of integers of any length that represents the digits of an integer, return an array that has 1 added to the value represented by the array.\n",
    "\n",
    "- the array can't be empty\n",
    "- only non-negative, single digit integers are allowed in the array\n",
    "\n",
    "Return `None` for invalid inputs.\n",
    "\n",
    "#### Examples:\n",
    "\n",
    "The array `[2, 3, 9]` represents 239, adding one would return the array `[2, 4, 0]`.\n",
    "\n",
    "`[4, 3, 2, 5]` would return `[4, 3, 2, 6]`.\n",
    "\n",
    "Question Link: https://www.codewars.com/kata/5514e5b77e6b2f38e0000ca9/python"
   ]
  },
  {
   "cell_type": "code",
   "execution_count": null,
   "metadata": {},
   "outputs": [],
   "source": [
    "def up_array(arr):\n",
    "    # Your solution here\n",
    "    pass"
   ]
  },
  {
   "cell_type": "markdown",
   "metadata": {},
   "source": [
    "## Question 2: Detect Pangram\n",
    "\n",
    "A pangram is a sentence that contains every single letter of the alphabet at least once. For example, the sentence:\n",
    "\n",
    "`\"The quick brown fox jumps over the lazy dog\"`\n",
    "\n",
    "is a pangram, because it uses the letters A-Z at least once (case is irrelevant).\n",
    "\n",
    "Given a string, detect whether or not it is a pangram. Return `True` if it is, `False` if not. Ignore numbers and punctuation.\n",
    "\n",
    "Question Link: https://www.codewars.com/kata/545cedaa9943f7fe7b000048/python"
   ]
  },
  {
   "cell_type": "code",
   "execution_count": null,
   "metadata": {},
   "outputs": [],
   "source": [
    "import string\n",
    "\n",
    "def is_pangram(s):\n",
    "    # Your solution here\n",
    "    pass"
   ]
  },
  {
   "cell_type": "markdown",
   "metadata": {},
   "source": [
    "## Question 3: Duplicate Encoder\n",
    "\n",
    "The goal of this exercise is to convert a string to a new string where each character in the new string is \"(\" if that character appears only once in the original string, or \")\" if that character appears more than once in the original string. Ignore capitalization when determining if a character is a duplicate.\n",
    "\n",
    "#### Examples:\n",
    "```\n",
    "\"din\"      =>  \"(((\"\n",
    "\"recede\"   =>  \"()()()\"\n",
    "\"Success\"  =>  \")())())\"\n",
    "\"(( @\"     =>  \"))((\"\n",
    "```\n",
    "Question Link: https://www.codewars.com/kata/54b42f9314d9229fd6000d9c/python"
   ]
  },
  {
   "cell_type": "code",
   "execution_count": null,
   "metadata": {},
   "outputs": [],
   "source": [
    "def duplicate_encode(word):\n",
    "    # Your solution here\n",
    "    pass"
   ]
  },
  {
   "cell_type": "markdown",
   "metadata": {},
   "source": [
    "## Question 4: Permutations\n",
    "\n",
    "Create all permutations of an input string and remove duplicates, if present. This means, you have to shuffle all letters from the input in all possible orders.\n",
    "\n",
    "#### Examples:\n",
    "```\n",
    "permutations('a') # ['a']\n",
    "permutations('ab') # ['ab', 'ba']\n",
    "permutations('aabb') # ['aabb', 'abab', 'abba', 'baab', 'baba', 'bbaa']\n",
    "```\n",
    "The order of the permutations doesn't matter.\n",
    "\n",
    "Question Link: https://www.codewars.com/kata/5254ca2719453dcc0b00027d/python"
   ]
  },
  {
   "cell_type": "code",
   "execution_count": null,
   "metadata": {},
   "outputs": [],
   "source": [
    "def permutations(string):\n",
    "    # Your solution here\n",
    "    pass"
   ]
  },
  {
   "cell_type": "markdown",
   "metadata": {},
   "source": [
    "## Bonus Question : Xbonacci Sequence\n",
    "\n",
    "Think of a Quadribonacci sequence starting with a signature of 4 elements and each following element is the sum of the 4 previous, a Pentabonacci (well Cinquebonacci would probably sound a bit more italian, but it would also sound really awful) with a signature of 5 elements and each following element is the sum of the 5 previous, and so on.\n",
    "\n",
    "Well, guess what? You have to build a Xbonacci function that takes a signature of `X` elements - _and remember each next element is the sum of the last `X` elements_ - and returns the first `n` elements of the so seeded sequence.\n",
    "```\n",
    "xbonacci([1,1,1,1], 10) = [1,1,1,1,4,7,13,25,49,94]\n",
    "xbonacci([0,0,0,0,1], 10) = [0,0,0,0,1,1,2,4,8,16]\n",
    "xbonacci([1,0,0,0,0,0,1], 10) = [1,0,0,0,0,0,1,2,3,6]\n",
    "xbonacci([1,1], n) produces the first n elements of the Fibonacci sequence\n",
    "```\n",
    "Question Link: https://www.codewars.com/kata/556e0fccc392c527f20000c5/python"
   ]
  },
  {
   "cell_type": "code",
   "execution_count": null,
   "metadata": {},
   "outputs": [],
   "source": [
    "def xbonacci(signature, n):\n",
    "    # Your solution here\n",
    "    pass"
   ]
  }
 ],
 "metadata": {
  "kernelspec": {
   "display_name": "Python 3",
   "language": "python",
   "name": "python3"
  },
  "language_info": {
   "codemirror_mode": {
    "name": "ipython",
    "version": 3
   },
   "file_extension": ".py",
   "mimetype": "text/x-python",
   "name": "python",
   "nbconvert_exporter": "python",
   "pygments_lexer": "ipython3",
   "version": "3.7.4"
  }
 },
 "nbformat": 4,
 "nbformat_minor": 2
}
